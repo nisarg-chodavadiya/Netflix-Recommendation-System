{
  "nbformat": 4,
  "nbformat_minor": 0,
  "metadata": {
    "colab": {
      "name": "Netflix Recommander System",
      "provenance": [],
      "collapsed_sections": [],
      "toc_visible": true
    },
    "kernelspec": {
      "name": "python3",
      "display_name": "Python 3"
    },
    "language_info": {
      "name": "python"
    }
  },
  "cells": [
    {
      "cell_type": "markdown",
      "metadata": {
        "id": "1nV8aBPEmo9M"
      },
      "source": [
        "# Netflix\n",
        "Netflix is the world's leading streaming entertainment service with 100s of million paid customers worldwide.\n",
        "\n",
        "# Problem Statement\n",
        "Netflix kind of content platforms will definitely have huge content library of waste variety, so some users will often face difficulties to find out content of their likelihood.\n",
        "That's where the role of recommender systems comes into play.\n",
        "Recommender system will automatically sort a high quality content with best relevance to user's likelihood preferences, that leads to better user experience success.\n",
        "\n",
        "\n",
        "# Dataset\n",
        "Netflix Prize data \n",
        "https://www.kaggle.com/netflix-inc/netflix-prize-data\n"
      ]
    },
    {
      "cell_type": "markdown",
      "metadata": {
        "id": "VFR088qEFuiE"
      },
      "source": [
        "# Import Libraries (Modules)"
      ]
    },
    {
      "cell_type": "code",
      "metadata": {
        "colab": {
          "base_uri": "https://localhost:8080/"
        },
        "id": "k-LX37BeMkX8",
        "outputId": "eda5a4dc-9db2-4e17-8028-7cf074c62416"
      },
      "source": [
        "!pip install surprise"
      ],
      "execution_count": null,
      "outputs": [
        {
          "output_type": "stream",
          "text": [
            "Collecting surprise\n",
            "  Downloading https://files.pythonhosted.org/packages/61/de/e5cba8682201fcf9c3719a6fdda95693468ed061945493dea2dd37c5618b/surprise-0.1-py2.py3-none-any.whl\n",
            "Collecting scikit-surprise\n",
            "\u001b[?25l  Downloading https://files.pythonhosted.org/packages/97/37/5d334adaf5ddd65da99fc65f6507e0e4599d092ba048f4302fe8775619e8/scikit-surprise-1.1.1.tar.gz (11.8MB)\n",
            "\u001b[K     |████████████████████████████████| 11.8MB 336kB/s \n",
            "\u001b[?25hRequirement already satisfied: joblib>=0.11 in /usr/local/lib/python3.7/dist-packages (from scikit-surprise->surprise) (1.0.1)\n",
            "Requirement already satisfied: numpy>=1.11.2 in /usr/local/lib/python3.7/dist-packages (from scikit-surprise->surprise) (1.19.5)\n",
            "Requirement already satisfied: scipy>=1.0.0 in /usr/local/lib/python3.7/dist-packages (from scikit-surprise->surprise) (1.4.1)\n",
            "Requirement already satisfied: six>=1.10.0 in /usr/local/lib/python3.7/dist-packages (from scikit-surprise->surprise) (1.15.0)\n",
            "Building wheels for collected packages: scikit-surprise\n",
            "  Building wheel for scikit-surprise (setup.py) ... \u001b[?25l\u001b[?25hdone\n",
            "  Created wheel for scikit-surprise: filename=scikit_surprise-1.1.1-cp37-cp37m-linux_x86_64.whl size=1617570 sha256=bb4da2703bcf1618ce4d6c32956c69dc55298484828cbe6d6150c1489e2139be\n",
            "  Stored in directory: /root/.cache/pip/wheels/78/9c/3d/41b419c9d2aff5b6e2b4c0fc8d25c538202834058f9ed110d0\n",
            "Successfully built scikit-surprise\n",
            "Installing collected packages: scikit-surprise, surprise\n",
            "Successfully installed scikit-surprise-1.1.1 surprise-0.1\n"
          ],
          "name": "stdout"
        }
      ]
    },
    {
      "cell_type": "code",
      "metadata": {
        "id": "20zsj3dD0m_s"
      },
      "source": [
        "import numpy as np\n",
        "import pandas as pd\n",
        "# import matplotlib.pyplot as plt\n",
        "# import seaborn as sns"
      ],
      "execution_count": null,
      "outputs": []
    },
    {
      "cell_type": "markdown",
      "metadata": {
        "id": "jZ4OByOWFq5l"
      },
      "source": [
        "# Read Data"
      ]
    },
    {
      "cell_type": "markdown",
      "metadata": {
        "id": "S6vODaRcp83n"
      },
      "source": [
        "Store the data in zip file, so specificly this dataset will occupy significantly less storege space."
      ]
    },
    {
      "cell_type": "markdown",
      "metadata": {
        "id": "apNJJMN-qRsf"
      },
      "source": [
        "Unzip the Data with single one line easy statement and access a files directly from directory."
      ]
    },
    {
      "cell_type": "code",
      "metadata": {
        "id": "Ki6NWX2wv0ED"
      },
      "source": [
        "!unzip -q \"/content/drive/MyDrive/Data Science/Projects/Netflix Recommander System/Netflix Prize.zip\""
      ],
      "execution_count": null,
      "outputs": []
    },
    {
      "cell_type": "markdown",
      "metadata": {
        "id": "FeJM74Lvqosv"
      },
      "source": [
        "For now read the user ratings data from the directory. First we are using user rating data for only the first 4999 movies to make a recommendation system so low ram instances can do the work for 24M raws."
      ]
    },
    {
      "cell_type": "code",
      "metadata": {
        "id": "iPSCTnoi1Lkb",
        "colab": {
          "base_uri": "https://localhost:8080/",
          "height": 402
        },
        "outputId": "4b590c32-e143-438c-a3b5-5c55f7967b79"
      },
      "source": [
        "df = pd.read_csv('/content/combined_data_1.txt', names=['UserId', 'Rating'])\n",
        "df"
      ],
      "execution_count": null,
      "outputs": [
        {
          "output_type": "execute_result",
          "data": {
            "text/html": [
              "<div>\n",
              "<style scoped>\n",
              "    .dataframe tbody tr th:only-of-type {\n",
              "        vertical-align: middle;\n",
              "    }\n",
              "\n",
              "    .dataframe tbody tr th {\n",
              "        vertical-align: top;\n",
              "    }\n",
              "\n",
              "    .dataframe thead th {\n",
              "        text-align: right;\n",
              "    }\n",
              "</style>\n",
              "<table border=\"1\" class=\"dataframe\">\n",
              "  <thead>\n",
              "    <tr style=\"text-align: right;\">\n",
              "      <th></th>\n",
              "      <th>UserId</th>\n",
              "      <th>Rating</th>\n",
              "    </tr>\n",
              "  </thead>\n",
              "  <tbody>\n",
              "    <tr>\n",
              "      <th>0</th>\n",
              "      <td>1:</td>\n",
              "      <td>NaN</td>\n",
              "    </tr>\n",
              "    <tr>\n",
              "      <th>1</th>\n",
              "      <td>1488844</td>\n",
              "      <td>3.0</td>\n",
              "    </tr>\n",
              "    <tr>\n",
              "      <th>2</th>\n",
              "      <td>822109</td>\n",
              "      <td>5.0</td>\n",
              "    </tr>\n",
              "    <tr>\n",
              "      <th>3</th>\n",
              "      <td>885013</td>\n",
              "      <td>4.0</td>\n",
              "    </tr>\n",
              "    <tr>\n",
              "      <th>4</th>\n",
              "      <td>30878</td>\n",
              "      <td>4.0</td>\n",
              "    </tr>\n",
              "    <tr>\n",
              "      <th>...</th>\n",
              "      <td>...</td>\n",
              "      <td>...</td>\n",
              "    </tr>\n",
              "    <tr>\n",
              "      <th>24058258</th>\n",
              "      <td>2591364</td>\n",
              "      <td>2.0</td>\n",
              "    </tr>\n",
              "    <tr>\n",
              "      <th>24058259</th>\n",
              "      <td>1791000</td>\n",
              "      <td>2.0</td>\n",
              "    </tr>\n",
              "    <tr>\n",
              "      <th>24058260</th>\n",
              "      <td>512536</td>\n",
              "      <td>5.0</td>\n",
              "    </tr>\n",
              "    <tr>\n",
              "      <th>24058261</th>\n",
              "      <td>988963</td>\n",
              "      <td>3.0</td>\n",
              "    </tr>\n",
              "    <tr>\n",
              "      <th>24058262</th>\n",
              "      <td>1704416</td>\n",
              "      <td>3.0</td>\n",
              "    </tr>\n",
              "  </tbody>\n",
              "</table>\n",
              "<p>24058263 rows × 2 columns</p>\n",
              "</div>"
            ],
            "text/plain": [
              "           UserId  Rating\n",
              "0              1:     NaN\n",
              "1         1488844     3.0\n",
              "2          822109     5.0\n",
              "3          885013     4.0\n",
              "4           30878     4.0\n",
              "...           ...     ...\n",
              "24058258  2591364     2.0\n",
              "24058259  1791000     2.0\n",
              "24058260   512536     5.0\n",
              "24058261   988963     3.0\n",
              "24058262  1704416     3.0\n",
              "\n",
              "[24058263 rows x 2 columns]"
            ]
          },
          "metadata": {
            "tags": []
          },
          "execution_count": 6
        }
      ]
    },
    {
      "cell_type": "markdown",
      "metadata": {
        "id": "Cnn7s8ttKq_p"
      },
      "source": [
        "Here 1: is for movie id which will creat a prob for us to analysis of user review to a perticular movies so new seprate movie id column should be in this dataframe"
      ]
    },
    {
      "cell_type": "markdown",
      "metadata": {
        "id": "FjfJ7fe8rAW9"
      },
      "source": [
        "It seems that many preprocessing will be needed before actually using this user ratings data for recommendation system. "
      ]
    },
    {
      "cell_type": "markdown",
      "metadata": {
        "id": "0w9aXIO1K_Ij"
      },
      "source": [
        "# Preprocessing data for Recommendation"
      ]
    },
    {
      "cell_type": "markdown",
      "metadata": {
        "id": "XjjEYXeBr400"
      },
      "source": [
        "Creat a new movieid columns with zeros "
      ]
    },
    {
      "cell_type": "code",
      "metadata": {
        "id": "87YlRbcL010_",
        "colab": {
          "base_uri": "https://localhost:8080/",
          "height": 402
        },
        "outputId": "f35b2417-8a50-4524-99c2-e6e0402363e7"
      },
      "source": [
        "df['movieid'] = 0\n",
        "df"
      ],
      "execution_count": null,
      "outputs": [
        {
          "output_type": "execute_result",
          "data": {
            "text/html": [
              "<div>\n",
              "<style scoped>\n",
              "    .dataframe tbody tr th:only-of-type {\n",
              "        vertical-align: middle;\n",
              "    }\n",
              "\n",
              "    .dataframe tbody tr th {\n",
              "        vertical-align: top;\n",
              "    }\n",
              "\n",
              "    .dataframe thead th {\n",
              "        text-align: right;\n",
              "    }\n",
              "</style>\n",
              "<table border=\"1\" class=\"dataframe\">\n",
              "  <thead>\n",
              "    <tr style=\"text-align: right;\">\n",
              "      <th></th>\n",
              "      <th>UserId</th>\n",
              "      <th>Rating</th>\n",
              "      <th>movieid</th>\n",
              "    </tr>\n",
              "  </thead>\n",
              "  <tbody>\n",
              "    <tr>\n",
              "      <th>0</th>\n",
              "      <td>1:</td>\n",
              "      <td>NaN</td>\n",
              "      <td>0</td>\n",
              "    </tr>\n",
              "    <tr>\n",
              "      <th>1</th>\n",
              "      <td>1488844</td>\n",
              "      <td>3.0</td>\n",
              "      <td>0</td>\n",
              "    </tr>\n",
              "    <tr>\n",
              "      <th>2</th>\n",
              "      <td>822109</td>\n",
              "      <td>5.0</td>\n",
              "      <td>0</td>\n",
              "    </tr>\n",
              "    <tr>\n",
              "      <th>3</th>\n",
              "      <td>885013</td>\n",
              "      <td>4.0</td>\n",
              "      <td>0</td>\n",
              "    </tr>\n",
              "    <tr>\n",
              "      <th>4</th>\n",
              "      <td>30878</td>\n",
              "      <td>4.0</td>\n",
              "      <td>0</td>\n",
              "    </tr>\n",
              "    <tr>\n",
              "      <th>...</th>\n",
              "      <td>...</td>\n",
              "      <td>...</td>\n",
              "      <td>...</td>\n",
              "    </tr>\n",
              "    <tr>\n",
              "      <th>24058258</th>\n",
              "      <td>2591364</td>\n",
              "      <td>2.0</td>\n",
              "      <td>0</td>\n",
              "    </tr>\n",
              "    <tr>\n",
              "      <th>24058259</th>\n",
              "      <td>1791000</td>\n",
              "      <td>2.0</td>\n",
              "      <td>0</td>\n",
              "    </tr>\n",
              "    <tr>\n",
              "      <th>24058260</th>\n",
              "      <td>512536</td>\n",
              "      <td>5.0</td>\n",
              "      <td>0</td>\n",
              "    </tr>\n",
              "    <tr>\n",
              "      <th>24058261</th>\n",
              "      <td>988963</td>\n",
              "      <td>3.0</td>\n",
              "      <td>0</td>\n",
              "    </tr>\n",
              "    <tr>\n",
              "      <th>24058262</th>\n",
              "      <td>1704416</td>\n",
              "      <td>3.0</td>\n",
              "      <td>0</td>\n",
              "    </tr>\n",
              "  </tbody>\n",
              "</table>\n",
              "<p>24058263 rows × 3 columns</p>\n",
              "</div>"
            ],
            "text/plain": [
              "           UserId  Rating  movieid\n",
              "0              1:     NaN        0\n",
              "1         1488844     3.0        0\n",
              "2          822109     5.0        0\n",
              "3          885013     4.0        0\n",
              "4           30878     4.0        0\n",
              "...           ...     ...      ...\n",
              "24058258  2591364     2.0        0\n",
              "24058259  1791000     2.0        0\n",
              "24058260   512536     5.0        0\n",
              "24058261   988963     3.0        0\n",
              "24058262  1704416     3.0        0\n",
              "\n",
              "[24058263 rows x 3 columns]"
            ]
          },
          "metadata": {
            "tags": []
          },
          "execution_count": 7
        }
      ]
    },
    {
      "cell_type": "code",
      "metadata": {
        "colab": {
          "base_uri": "https://localhost:8080/",
          "height": 402
        },
        "id": "7Vl-PFoE03zt",
        "outputId": "2cc75acc-2766-4510-b5b8-ac430e003e30"
      },
      "source": [
        "# where the rating is null userid will be movieid \n",
        "df_movie = df.loc[df.Rating.isnull()].copy()\n",
        "df_movie['movieid'] = df_movie['UserId']\n",
        "df_movie"
      ],
      "execution_count": null,
      "outputs": [
        {
          "output_type": "execute_result",
          "data": {
            "text/html": [
              "<div>\n",
              "<style scoped>\n",
              "    .dataframe tbody tr th:only-of-type {\n",
              "        vertical-align: middle;\n",
              "    }\n",
              "\n",
              "    .dataframe tbody tr th {\n",
              "        vertical-align: top;\n",
              "    }\n",
              "\n",
              "    .dataframe thead th {\n",
              "        text-align: right;\n",
              "    }\n",
              "</style>\n",
              "<table border=\"1\" class=\"dataframe\">\n",
              "  <thead>\n",
              "    <tr style=\"text-align: right;\">\n",
              "      <th></th>\n",
              "      <th>UserId</th>\n",
              "      <th>Rating</th>\n",
              "      <th>movieid</th>\n",
              "    </tr>\n",
              "  </thead>\n",
              "  <tbody>\n",
              "    <tr>\n",
              "      <th>0</th>\n",
              "      <td>1:</td>\n",
              "      <td>NaN</td>\n",
              "      <td>1:</td>\n",
              "    </tr>\n",
              "    <tr>\n",
              "      <th>548</th>\n",
              "      <td>2:</td>\n",
              "      <td>NaN</td>\n",
              "      <td>2:</td>\n",
              "    </tr>\n",
              "    <tr>\n",
              "      <th>694</th>\n",
              "      <td>3:</td>\n",
              "      <td>NaN</td>\n",
              "      <td>3:</td>\n",
              "    </tr>\n",
              "    <tr>\n",
              "      <th>2707</th>\n",
              "      <td>4:</td>\n",
              "      <td>NaN</td>\n",
              "      <td>4:</td>\n",
              "    </tr>\n",
              "    <tr>\n",
              "      <th>2850</th>\n",
              "      <td>5:</td>\n",
              "      <td>NaN</td>\n",
              "      <td>5:</td>\n",
              "    </tr>\n",
              "    <tr>\n",
              "      <th>...</th>\n",
              "      <td>...</td>\n",
              "      <td>...</td>\n",
              "      <td>...</td>\n",
              "    </tr>\n",
              "    <tr>\n",
              "      <th>24046714</th>\n",
              "      <td>4495:</td>\n",
              "      <td>NaN</td>\n",
              "      <td>4495:</td>\n",
              "    </tr>\n",
              "    <tr>\n",
              "      <th>24047329</th>\n",
              "      <td>4496:</td>\n",
              "      <td>NaN</td>\n",
              "      <td>4496:</td>\n",
              "    </tr>\n",
              "    <tr>\n",
              "      <th>24056849</th>\n",
              "      <td>4497:</td>\n",
              "      <td>NaN</td>\n",
              "      <td>4497:</td>\n",
              "    </tr>\n",
              "    <tr>\n",
              "      <th>24057564</th>\n",
              "      <td>4498:</td>\n",
              "      <td>NaN</td>\n",
              "      <td>4498:</td>\n",
              "    </tr>\n",
              "    <tr>\n",
              "      <th>24057834</th>\n",
              "      <td>4499:</td>\n",
              "      <td>NaN</td>\n",
              "      <td>4499:</td>\n",
              "    </tr>\n",
              "  </tbody>\n",
              "</table>\n",
              "<p>4499 rows × 3 columns</p>\n",
              "</div>"
            ],
            "text/plain": [
              "         UserId  Rating movieid\n",
              "0            1:     NaN      1:\n",
              "548          2:     NaN      2:\n",
              "694          3:     NaN      3:\n",
              "2707         4:     NaN      4:\n",
              "2850         5:     NaN      5:\n",
              "...         ...     ...     ...\n",
              "24046714  4495:     NaN   4495:\n",
              "24047329  4496:     NaN   4496:\n",
              "24056849  4497:     NaN   4497:\n",
              "24057564  4498:     NaN   4498:\n",
              "24057834  4499:     NaN   4499:\n",
              "\n",
              "[4499 rows x 3 columns]"
            ]
          },
          "metadata": {
            "tags": []
          },
          "execution_count": 8
        }
      ]
    },
    {
      "cell_type": "markdown",
      "metadata": {
        "id": "MFAhPFgusWR-"
      },
      "source": [
        "In this dataframe movieid is in object so creat a function to convert that into string."
      ]
    },
    {
      "cell_type": "code",
      "metadata": {
        "id": "TrgT8XyJErFO"
      },
      "source": [
        "# Function to process this strings to integer\n",
        "def movie_id(string):\n",
        "  string = string[:-1]  # Remove ':' from movie id and return as integer\n",
        "  return int(string)"
      ],
      "execution_count": null,
      "outputs": []
    },
    {
      "cell_type": "markdown",
      "metadata": {
        "id": "Jt82IOT_vY9v"
      },
      "source": [
        "This is the most important part of preprocessing data for recommendation system."
      ]
    },
    {
      "cell_type": "code",
      "metadata": {
        "colab": {
          "base_uri": "https://localhost:8080/",
          "height": 402
        },
        "id": "JaoMNY1qE7FT",
        "outputId": "2a2e8b70-3022-40d5-bea4-0452bc3d76d5"
      },
      "source": [
        "# apply above function to movieid column\n",
        "df_movie['movieid'] = df_movie['movieid'].apply(movie_id)\n",
        "\n",
        "# merge seprate dataframe to main dataframe \n",
        "# so where ever the userid has movieid at there \n",
        "# rating will be none and movieid will be in movieid column \n",
        "df['movieid'] = df_movie['movieid']\n",
        "\n",
        "# Apply ffill from pandas to fill null values in movieid to other movieid\n",
        "df['movieid'] = df['movieid'].fillna(method='ffill')\n",
        "df.movieid = df.movieid.astype(int)\n",
        "\n",
        "# drop the movieid raws in userid columns\n",
        "# map that by where movieid is in userid column, \n",
        "# at there rating will have null value\n",
        "# so drop the raws with null values from entire dataframe\n",
        "df.dropna(axis=0, inplace=True)\n",
        "\n",
        "# Recommender system module will only accept data in \n",
        "# ['userID', 'itemID', 'rating'] this order, so reindex it\n",
        "df = df.reindex(columns=['UserId', 'movieid', 'Rating'])\n",
        "\n",
        "# That's what will needed for recommendation system\n",
        "df"
      ],
      "execution_count": null,
      "outputs": [
        {
          "output_type": "execute_result",
          "data": {
            "text/html": [
              "<div>\n",
              "<style scoped>\n",
              "    .dataframe tbody tr th:only-of-type {\n",
              "        vertical-align: middle;\n",
              "    }\n",
              "\n",
              "    .dataframe tbody tr th {\n",
              "        vertical-align: top;\n",
              "    }\n",
              "\n",
              "    .dataframe thead th {\n",
              "        text-align: right;\n",
              "    }\n",
              "</style>\n",
              "<table border=\"1\" class=\"dataframe\">\n",
              "  <thead>\n",
              "    <tr style=\"text-align: right;\">\n",
              "      <th></th>\n",
              "      <th>UserId</th>\n",
              "      <th>movieid</th>\n",
              "      <th>Rating</th>\n",
              "    </tr>\n",
              "  </thead>\n",
              "  <tbody>\n",
              "    <tr>\n",
              "      <th>1</th>\n",
              "      <td>1488844</td>\n",
              "      <td>1</td>\n",
              "      <td>3.0</td>\n",
              "    </tr>\n",
              "    <tr>\n",
              "      <th>2</th>\n",
              "      <td>822109</td>\n",
              "      <td>1</td>\n",
              "      <td>5.0</td>\n",
              "    </tr>\n",
              "    <tr>\n",
              "      <th>3</th>\n",
              "      <td>885013</td>\n",
              "      <td>1</td>\n",
              "      <td>4.0</td>\n",
              "    </tr>\n",
              "    <tr>\n",
              "      <th>4</th>\n",
              "      <td>30878</td>\n",
              "      <td>1</td>\n",
              "      <td>4.0</td>\n",
              "    </tr>\n",
              "    <tr>\n",
              "      <th>5</th>\n",
              "      <td>823519</td>\n",
              "      <td>1</td>\n",
              "      <td>3.0</td>\n",
              "    </tr>\n",
              "    <tr>\n",
              "      <th>...</th>\n",
              "      <td>...</td>\n",
              "      <td>...</td>\n",
              "      <td>...</td>\n",
              "    </tr>\n",
              "    <tr>\n",
              "      <th>24058258</th>\n",
              "      <td>2591364</td>\n",
              "      <td>4499</td>\n",
              "      <td>2.0</td>\n",
              "    </tr>\n",
              "    <tr>\n",
              "      <th>24058259</th>\n",
              "      <td>1791000</td>\n",
              "      <td>4499</td>\n",
              "      <td>2.0</td>\n",
              "    </tr>\n",
              "    <tr>\n",
              "      <th>24058260</th>\n",
              "      <td>512536</td>\n",
              "      <td>4499</td>\n",
              "      <td>5.0</td>\n",
              "    </tr>\n",
              "    <tr>\n",
              "      <th>24058261</th>\n",
              "      <td>988963</td>\n",
              "      <td>4499</td>\n",
              "      <td>3.0</td>\n",
              "    </tr>\n",
              "    <tr>\n",
              "      <th>24058262</th>\n",
              "      <td>1704416</td>\n",
              "      <td>4499</td>\n",
              "      <td>3.0</td>\n",
              "    </tr>\n",
              "  </tbody>\n",
              "</table>\n",
              "<p>24053764 rows × 3 columns</p>\n",
              "</div>"
            ],
            "text/plain": [
              "           UserId  movieid  Rating\n",
              "1         1488844        1     3.0\n",
              "2          822109        1     5.0\n",
              "3          885013        1     4.0\n",
              "4           30878        1     4.0\n",
              "5          823519        1     3.0\n",
              "...           ...      ...     ...\n",
              "24058258  2591364     4499     2.0\n",
              "24058259  1791000     4499     2.0\n",
              "24058260   512536     4499     5.0\n",
              "24058261   988963     4499     3.0\n",
              "24058262  1704416     4499     3.0\n",
              "\n",
              "[24053764 rows x 3 columns]"
            ]
          },
          "metadata": {
            "tags": []
          },
          "execution_count": 10
        }
      ]
    },
    {
      "cell_type": "markdown",
      "metadata": {
        "id": "3b6GeSWtvVFx"
      },
      "source": [
        "Read the movie titles data"
      ]
    },
    {
      "cell_type": "code",
      "metadata": {
        "id": "8kndi28XGmeY"
      },
      "source": [
        "df_titles = pd.read_csv('/content/movie_titles.csv', encoding=\"ISO-8859-1\", names=['movieid', 'Year', 'Name'])"
      ],
      "execution_count": null,
      "outputs": []
    },
    {
      "cell_type": "markdown",
      "metadata": {
        "id": "EjeIE87fwdOw"
      },
      "source": [
        "Set movieid as index for further easyness as this dataframe is only for movie titles"
      ]
    },
    {
      "cell_type": "code",
      "metadata": {
        "colab": {
          "base_uri": "https://localhost:8080/",
          "height": 225
        },
        "id": "C6Bnj6uzG12k",
        "outputId": "1c7fa00e-3613-463b-9d35-5e528c6b8435"
      },
      "source": [
        "df_titles.set_index('movieid', inplace = True)\n",
        "df_titles.head()"
      ],
      "execution_count": null,
      "outputs": [
        {
          "output_type": "execute_result",
          "data": {
            "text/html": [
              "<div>\n",
              "<style scoped>\n",
              "    .dataframe tbody tr th:only-of-type {\n",
              "        vertical-align: middle;\n",
              "    }\n",
              "\n",
              "    .dataframe tbody tr th {\n",
              "        vertical-align: top;\n",
              "    }\n",
              "\n",
              "    .dataframe thead th {\n",
              "        text-align: right;\n",
              "    }\n",
              "</style>\n",
              "<table border=\"1\" class=\"dataframe\">\n",
              "  <thead>\n",
              "    <tr style=\"text-align: right;\">\n",
              "      <th></th>\n",
              "      <th>Year</th>\n",
              "      <th>Name</th>\n",
              "    </tr>\n",
              "    <tr>\n",
              "      <th>movieid</th>\n",
              "      <th></th>\n",
              "      <th></th>\n",
              "    </tr>\n",
              "  </thead>\n",
              "  <tbody>\n",
              "    <tr>\n",
              "      <th>1</th>\n",
              "      <td>2003.0</td>\n",
              "      <td>Dinosaur Planet</td>\n",
              "    </tr>\n",
              "    <tr>\n",
              "      <th>2</th>\n",
              "      <td>2004.0</td>\n",
              "      <td>Isle of Man TT 2004 Review</td>\n",
              "    </tr>\n",
              "    <tr>\n",
              "      <th>3</th>\n",
              "      <td>1997.0</td>\n",
              "      <td>Character</td>\n",
              "    </tr>\n",
              "    <tr>\n",
              "      <th>4</th>\n",
              "      <td>1994.0</td>\n",
              "      <td>Paula Abdul's Get Up &amp; Dance</td>\n",
              "    </tr>\n",
              "    <tr>\n",
              "      <th>5</th>\n",
              "      <td>2004.0</td>\n",
              "      <td>The Rise and Fall of ECW</td>\n",
              "    </tr>\n",
              "  </tbody>\n",
              "</table>\n",
              "</div>"
            ],
            "text/plain": [
              "           Year                          Name\n",
              "movieid                                      \n",
              "1        2003.0               Dinosaur Planet\n",
              "2        2004.0    Isle of Man TT 2004 Review\n",
              "3        1997.0                     Character\n",
              "4        1994.0  Paula Abdul's Get Up & Dance\n",
              "5        2004.0      The Rise and Fall of ECW"
            ]
          },
          "metadata": {
            "tags": []
          },
          "execution_count": 13
        }
      ]
    },
    {
      "cell_type": "markdown",
      "metadata": {
        "id": "kBvyc0jewsO9"
      },
      "source": [
        "To give high quality recommendation to users system should give them recommendation of only popular movies so remove movies which are rated by less number of users."
      ]
    },
    {
      "cell_type": "code",
      "metadata": {
        "colab": {
          "base_uri": "https://localhost:8080/"
        },
        "id": "8o9vRSvXMVMU",
        "outputId": "2150f57e-04d1-4009-f4f2-727dc26142a7"
      },
      "source": [
        "movie_ratings = df.groupby('movieid')['Rating'].agg(['count', 'mean'])  # rating is mean of ratings by all users.\n",
        "movie_ratings.index = movie_ratings.index.map(int)\n",
        "non_popular_threshold = round(movie_ratings['count'].quantile(0.95),0) \n",
        "non_popular_movies = movie_ratings[movie_ratings['count'] < non_popular_threshold].index\n",
        "non_popular_movies "
      ],
      "execution_count": null,
      "outputs": [
        {
          "output_type": "execute_result",
          "data": {
            "text/plain": [
              "Int64Index([   1,    2,    3,    4,    5,    6,    7,    8,    9,   10,\n",
              "            ...\n",
              "            4490, 4491, 4492, 4493, 4494, 4495, 4496, 4497, 4498, 4499],\n",
              "           dtype='int64', name='movieid', length=4274)"
            ]
          },
          "metadata": {
            "tags": []
          },
          "execution_count": 14
        }
      ]
    },
    {
      "cell_type": "markdown",
      "metadata": {
        "id": "VYNInOWFxHZ_"
      },
      "source": [
        "To get high quality reference users for collabrative filtering, system should only take reference of users which are more active on their hobby of watching perticular content and often gives rating for many movies."
      ]
    },
    {
      "cell_type": "code",
      "metadata": {
        "id": "9VWNE8kJW2kh",
        "colab": {
          "base_uri": "https://localhost:8080/"
        },
        "outputId": "fa7ddeff-b299-48d5-cc89-0421ec3e78cf"
      },
      "source": [
        "df_users = df.groupby('UserId')['Rating'].agg(['count', 'mean'])\n",
        "df_users.index = df_users.index.map(int)\n",
        "less_users_threshold = round(df_users['count'].quantile(0.95),0)\n",
        "df_less_active_users = df_users[df_users['count'] < less_users_threshold].index\n",
        "df_less_active_users"
      ],
      "execution_count": null,
      "outputs": [
        {
          "output_type": "execute_result",
          "data": {
            "text/plain": [
              "Int64Index([     10, 1000004, 1000027, 1000033, 1000035, 1000038, 1000051,\n",
              "            1000057,  100006, 1000062,\n",
              "            ...\n",
              "             999935,   99994,  999944,  999945,  999949,  999964,  999972,\n",
              "             999977,  999984,  999988],\n",
              "           dtype='int64', name='UserId', length=447138)"
            ]
          },
          "metadata": {
            "tags": []
          },
          "execution_count": 15
        }
      ]
    },
    {
      "cell_type": "code",
      "metadata": {
        "colab": {
          "base_uri": "https://localhost:8080/"
        },
        "id": "fSFAcO_GA7tv",
        "outputId": "2520532a-5b52-48fd-925e-0c9f5e68e356"
      },
      "source": [
        "non_popular_threshold"
      ],
      "execution_count": null,
      "outputs": [
        {
          "output_type": "execute_result",
          "data": {
            "text/plain": [
              "27366.0"
            ]
          },
          "metadata": {
            "tags": []
          },
          "execution_count": 16
        }
      ]
    },
    {
      "cell_type": "code",
      "metadata": {
        "colab": {
          "base_uri": "https://localhost:8080/"
        },
        "id": "oxpW0bNdA-Gz",
        "outputId": "cb8ec437-a41b-474b-a24e-6b85846da05e"
      },
      "source": [
        "less_users_threshold"
      ],
      "execution_count": null,
      "outputs": [
        {
          "output_type": "execute_result",
          "data": {
            "text/plain": [
              "190.0"
            ]
          },
          "metadata": {
            "tags": []
          },
          "execution_count": 17
        }
      ]
    },
    {
      "cell_type": "markdown",
      "metadata": {
        "id": "ZBDffmn57ZFT"
      },
      "source": [
        "Drop the data under the threshold"
      ]
    },
    {
      "cell_type": "code",
      "metadata": {
        "colab": {
          "base_uri": "https://localhost:8080/",
          "height": 435
        },
        "id": "r0O1hB5u7YiT",
        "outputId": "76861afc-4140-4bfc-b898-aeab68e78aba"
      },
      "source": [
        "print('Befer droping less active raws', df.shape)\n",
        "\n",
        "df = df[~df['movieid'].isin(non_popular_movies)]\n",
        "df = df[~df['UserId'].isin(df_less_active_users)]\n",
        "\n",
        "print('After droping less active raws', df.shape)\n",
        "\n",
        "df"
      ],
      "execution_count": null,
      "outputs": [
        {
          "output_type": "stream",
          "text": [
            "Befer droping less active raws (24053764, 3)\n",
            "After droping less active raws (14372438, 3)\n"
          ],
          "name": "stdout"
        },
        {
          "output_type": "execute_result",
          "data": {
            "text/html": [
              "<div>\n",
              "<style scoped>\n",
              "    .dataframe tbody tr th:only-of-type {\n",
              "        vertical-align: middle;\n",
              "    }\n",
              "\n",
              "    .dataframe tbody tr th {\n",
              "        vertical-align: top;\n",
              "    }\n",
              "\n",
              "    .dataframe thead th {\n",
              "        text-align: right;\n",
              "    }\n",
              "</style>\n",
              "<table border=\"1\" class=\"dataframe\">\n",
              "  <thead>\n",
              "    <tr style=\"text-align: right;\">\n",
              "      <th></th>\n",
              "      <th>UserId</th>\n",
              "      <th>movieid</th>\n",
              "      <th>Rating</th>\n",
              "    </tr>\n",
              "  </thead>\n",
              "  <tbody>\n",
              "    <tr>\n",
              "      <th>52551</th>\n",
              "      <td>1392773</td>\n",
              "      <td>28</td>\n",
              "      <td>4.0</td>\n",
              "    </tr>\n",
              "    <tr>\n",
              "      <th>52552</th>\n",
              "      <td>1697479</td>\n",
              "      <td>28</td>\n",
              "      <td>4.0</td>\n",
              "    </tr>\n",
              "    <tr>\n",
              "      <th>52553</th>\n",
              "      <td>1990901</td>\n",
              "      <td>28</td>\n",
              "      <td>5.0</td>\n",
              "    </tr>\n",
              "    <tr>\n",
              "      <th>52554</th>\n",
              "      <td>2626356</td>\n",
              "      <td>28</td>\n",
              "      <td>5.0</td>\n",
              "    </tr>\n",
              "    <tr>\n",
              "      <th>52555</th>\n",
              "      <td>1402412</td>\n",
              "      <td>28</td>\n",
              "      <td>2.0</td>\n",
              "    </tr>\n",
              "    <tr>\n",
              "      <th>...</th>\n",
              "      <td>...</td>\n",
              "      <td>...</td>\n",
              "      <td>...</td>\n",
              "    </tr>\n",
              "    <tr>\n",
              "      <th>24018724</th>\n",
              "      <td>480064</td>\n",
              "      <td>4488</td>\n",
              "      <td>1.0</td>\n",
              "    </tr>\n",
              "    <tr>\n",
              "      <th>24018725</th>\n",
              "      <td>1021220</td>\n",
              "      <td>4488</td>\n",
              "      <td>4.0</td>\n",
              "    </tr>\n",
              "    <tr>\n",
              "      <th>24018726</th>\n",
              "      <td>2186555</td>\n",
              "      <td>4488</td>\n",
              "      <td>4.0</td>\n",
              "    </tr>\n",
              "    <tr>\n",
              "      <th>24018727</th>\n",
              "      <td>833254</td>\n",
              "      <td>4488</td>\n",
              "      <td>3.0</td>\n",
              "    </tr>\n",
              "    <tr>\n",
              "      <th>24018728</th>\n",
              "      <td>449391</td>\n",
              "      <td>4488</td>\n",
              "      <td>3.0</td>\n",
              "    </tr>\n",
              "  </tbody>\n",
              "</table>\n",
              "<p>14372438 rows × 3 columns</p>\n",
              "</div>"
            ],
            "text/plain": [
              "           UserId  movieid  Rating\n",
              "52551     1392773       28     4.0\n",
              "52552     1697479       28     4.0\n",
              "52553     1990901       28     5.0\n",
              "52554     2626356       28     5.0\n",
              "52555     1402412       28     2.0\n",
              "...           ...      ...     ...\n",
              "24018724   480064     4488     1.0\n",
              "24018725  1021220     4488     4.0\n",
              "24018726  2186555     4488     4.0\n",
              "24018727   833254     4488     3.0\n",
              "24018728   449391     4488     3.0\n",
              "\n",
              "[14372438 rows x 3 columns]"
            ]
          },
          "metadata": {
            "tags": []
          },
          "execution_count": 18
        }
      ]
    },
    {
      "cell_type": "markdown",
      "metadata": {
        "id": "t3Qz1POYFiHY"
      },
      "source": [
        "# Recommender system"
      ]
    },
    {
      "cell_type": "markdown",
      "metadata": {
        "id": "EGk9t5p-yElg"
      },
      "source": [
        "Use the famouse SVD algoridhm to buid our recommandation system and refer to its documentation"
      ]
    },
    {
      "cell_type": "code",
      "metadata": {
        "id": "bCDYwLt5Nr4G"
      },
      "source": [
        "from surprise import Reader, Dataset, SVD\n",
        "from surprise.model_selection import cross_validate\n",
        "from surprise import accuracy"
      ],
      "execution_count": null,
      "outputs": []
    },
    {
      "cell_type": "markdown",
      "metadata": {
        "id": "2CxMgIBx0L6j"
      },
      "source": [
        "It will take around 60-90 minute."
      ]
    },
    {
      "cell_type": "code",
      "metadata": {
        "id": "lHM88QqLIimY",
        "colab": {
          "base_uri": "https://localhost:8080/"
        },
        "outputId": "55ca263d-91b6-448b-c61f-7bf585cb886b"
      },
      "source": [
        "# Takes 1 hour 20 minute\n",
        "\n",
        "reader = Reader()\n",
        "\n",
        "# getting full dataset\n",
        "data = Dataset.load_from_df(df[['UserId', 'movieid', 'Rating']], reader)\n",
        "\n",
        "algo = SVD()\n",
        "cross_validate(algo, data, measures=['RMSE', 'MAE'])"
      ],
      "execution_count": null,
      "outputs": [
        {
          "output_type": "execute_result",
          "data": {
            "text/plain": [
              "{'fit_time': (746.9048941135406,\n",
              "  787.6050469875336,\n",
              "  789.5430340766907,\n",
              "  792.3407363891602,\n",
              "  788.5767765045166),\n",
              " 'test_mae': array([0.70620804, 0.70530168, 0.70516181, 0.70443728, 0.70546429]),\n",
              " 'test_rmse': array([0.91228935, 0.91092952, 0.9110382 , 0.91060588, 0.91143263]),\n",
              " 'test_time': (71.643545627594,\n",
              "  80.41635513305664,\n",
              "  75.1009590625763,\n",
              "  80.00788640975952,\n",
              "  75.77366232872009)}"
            ]
          },
          "metadata": {
            "tags": []
          },
          "execution_count": 20
        }
      ]
    },
    {
      "cell_type": "markdown",
      "metadata": {
        "id": "9twExumRNzpU"
      },
      "source": [
        "To improve rmse colab instance will not be sufficent, this is max out of colab instance by removeing maximum inactive user data and non popular movies."
      ]
    },
    {
      "cell_type": "code",
      "metadata": {
        "colab": {
          "base_uri": "https://localhost:8080/"
        },
        "id": "JzGfqsdrxCmM",
        "outputId": "3bdada2e-ee27-4c28-9200-2aa19ae1a6b8"
      },
      "source": [
        "# Takes 15-20 minute\n",
        "trainset = data.build_full_trainset()\n",
        "algo.fit(trainset)"
      ],
      "execution_count": null,
      "outputs": [
        {
          "output_type": "execute_result",
          "data": {
            "text/plain": [
              "<surprise.prediction_algorithms.matrix_factorization.SVD at 0x7f32b2de2390>"
            ]
          },
          "metadata": {
            "tags": []
          },
          "execution_count": 21
        }
      ]
    },
    {
      "cell_type": "markdown",
      "metadata": {
        "id": "XnEpPixR-30u"
      },
      "source": [
        "Recommend movies to users"
      ]
    },
    {
      "cell_type": "code",
      "metadata": {
        "id": "zLsU404rjM83"
      },
      "source": [
        "def recommendation(Userid, rating):\n",
        "  '''\n",
        "  recommendation(1488844, 5) \n",
        "\n",
        "  return recommendaded movie list based on movies that user had rated 5 star\n",
        "  '''\n",
        "  \n",
        "  df_user = df[(df['UserId']==str(Userid)) & \n",
        "               (df['Rating']==rating)].set_index('movieid')\n",
        "  df_user = df_user.join(df_titles)['Name']\n",
        "  print('---Movies Seen by User---')\n",
        "  print(df_user)  # list of movies seen by users\n",
        "\n",
        "  df_user = df_titles.copy().reset_index()\n",
        "  df_user['Predicted_Rating'] = df_user['movieid'].apply(lambda x: algo.predict(str(Userid), x).est)\n",
        "  df_user_recommendations = df_user.sort_values('Predicted_Rating', ascending=False)\n",
        "  print('\\n---Recommended Movies to User---')\n",
        "\n",
        "  return df_user_recommendations"
      ],
      "execution_count": null,
      "outputs": []
    },
    {
      "cell_type": "code",
      "metadata": {
        "colab": {
          "base_uri": "https://localhost:8080/",
          "height": 1000
        },
        "id": "VXiLpaUL9yu1",
        "outputId": "c70259f7-21c3-44cc-b00c-a1c4e37fcd0e"
      },
      "source": [
        "recommendation(1488844, 5) "
      ],
      "execution_count": null,
      "outputs": [
        {
          "output_type": "stream",
          "text": [
            "---Movies Seen by User---\n",
            "movieid\n",
            "143                                              The Game\n",
            "191                                      X2: X-Men United\n",
            "468                               The Matrix: Revolutions\n",
            "571                                       American Beauty\n",
            "607                                                 Speed\n",
            "658                         Robin Hood: Prince of Thieves\n",
            "798                                                  Jaws\n",
            "1180                                     A Beautiful Mind\n",
            "1590                                      Life as a House\n",
            "1625                          Aliens: Collector's Edition\n",
            "1798                                        Lethal Weapon\n",
            "1905    Pirates of the Caribbean: The Curse of the Bla...\n",
            "2192                                        The Hurricane\n",
            "2252                                Bram Stoker's Dracula\n",
            "2372                                 The Bourne Supremacy\n",
            "2430                           Alien: Collector's Edition\n",
            "2452        Lord of the Rings: The Fellowship of the Ring\n",
            "2580                                        Freaky Friday\n",
            "2862                             The Silence of the Lambs\n",
            "3017                                               Cocoon\n",
            "3368                                       The Family Man\n",
            "3427                                      Men in Black II\n",
            "3579                                     2 Fast 2 Furious\n",
            "3817                                             Stargate\n",
            "3825                                 The Sum of All Fears\n",
            "3864                                        Batman Begins\n",
            "3925                                 The Matrix: Reloaded\n",
            "4043                                                Signs\n",
            "4056                                   Planet of the Apes\n",
            "4216                                    Jurassic Park III\n",
            "4227                                       The Full Monty\n",
            "4302                           An Officer and a Gentleman\n",
            "4306                                      The Sixth Sense\n",
            "4432                                      The Italian Job\n",
            "4488                                          Wonder Boys\n",
            "Name: Name, dtype: object\n",
            "\n",
            "---Recommended Movies to User---\n"
          ],
          "name": "stdout"
        },
        {
          "output_type": "execute_result",
          "data": {
            "text/html": [
              "<div>\n",
              "<style scoped>\n",
              "    .dataframe tbody tr th:only-of-type {\n",
              "        vertical-align: middle;\n",
              "    }\n",
              "\n",
              "    .dataframe tbody tr th {\n",
              "        vertical-align: top;\n",
              "    }\n",
              "\n",
              "    .dataframe thead th {\n",
              "        text-align: right;\n",
              "    }\n",
              "</style>\n",
              "<table border=\"1\" class=\"dataframe\">\n",
              "  <thead>\n",
              "    <tr style=\"text-align: right;\">\n",
              "      <th></th>\n",
              "      <th>movieid</th>\n",
              "      <th>Year</th>\n",
              "      <th>Name</th>\n",
              "      <th>Predicted_Rating</th>\n",
              "    </tr>\n",
              "  </thead>\n",
              "  <tbody>\n",
              "    <tr>\n",
              "      <th>1797</th>\n",
              "      <td>1798</td>\n",
              "      <td>1987.0</td>\n",
              "      <td>Lethal Weapon</td>\n",
              "      <td>4.582067</td>\n",
              "    </tr>\n",
              "    <tr>\n",
              "      <th>3816</th>\n",
              "      <td>3817</td>\n",
              "      <td>1994.0</td>\n",
              "      <td>Stargate</td>\n",
              "      <td>4.571523</td>\n",
              "    </tr>\n",
              "    <tr>\n",
              "      <th>1809</th>\n",
              "      <td>1810</td>\n",
              "      <td>1998.0</td>\n",
              "      <td>U.S. Marshals</td>\n",
              "      <td>4.530583</td>\n",
              "    </tr>\n",
              "    <tr>\n",
              "      <th>3609</th>\n",
              "      <td>3610</td>\n",
              "      <td>1992.0</td>\n",
              "      <td>Lethal Weapon 3</td>\n",
              "      <td>4.520544</td>\n",
              "    </tr>\n",
              "    <tr>\n",
              "      <th>3961</th>\n",
              "      <td>3962</td>\n",
              "      <td>2003.0</td>\n",
              "      <td>Finding Nemo (Widescreen)</td>\n",
              "      <td>4.476690</td>\n",
              "    </tr>\n",
              "    <tr>\n",
              "      <th>...</th>\n",
              "      <td>...</td>\n",
              "      <td>...</td>\n",
              "      <td>...</td>\n",
              "      <td>...</td>\n",
              "    </tr>\n",
              "    <tr>\n",
              "      <th>3755</th>\n",
              "      <td>3756</td>\n",
              "      <td>2002.0</td>\n",
              "      <td>About Schmidt</td>\n",
              "      <td>2.656447</td>\n",
              "    </tr>\n",
              "    <tr>\n",
              "      <th>1304</th>\n",
              "      <td>1305</td>\n",
              "      <td>2003.0</td>\n",
              "      <td>Thirteen</td>\n",
              "      <td>2.655991</td>\n",
              "    </tr>\n",
              "    <tr>\n",
              "      <th>412</th>\n",
              "      <td>413</td>\n",
              "      <td>2002.0</td>\n",
              "      <td>Igby Goes Down</td>\n",
              "      <td>2.573105</td>\n",
              "    </tr>\n",
              "    <tr>\n",
              "      <th>2959</th>\n",
              "      <td>2960</td>\n",
              "      <td>2004.0</td>\n",
              "      <td>The Ladykillers</td>\n",
              "      <td>2.446850</td>\n",
              "    </tr>\n",
              "    <tr>\n",
              "      <th>1718</th>\n",
              "      <td>1719</td>\n",
              "      <td>2004.0</td>\n",
              "      <td>The Life Aquatic with Steve Zissou</td>\n",
              "      <td>2.161015</td>\n",
              "    </tr>\n",
              "  </tbody>\n",
              "</table>\n",
              "<p>17770 rows × 4 columns</p>\n",
              "</div>"
            ],
            "text/plain": [
              "      movieid    Year                                Name  Predicted_Rating\n",
              "1797     1798  1987.0                       Lethal Weapon          4.582067\n",
              "3816     3817  1994.0                            Stargate          4.571523\n",
              "1809     1810  1998.0                       U.S. Marshals          4.530583\n",
              "3609     3610  1992.0                     Lethal Weapon 3          4.520544\n",
              "3961     3962  2003.0           Finding Nemo (Widescreen)          4.476690\n",
              "...       ...     ...                                 ...               ...\n",
              "3755     3756  2002.0                       About Schmidt          2.656447\n",
              "1304     1305  2003.0                            Thirteen          2.655991\n",
              "412       413  2002.0                      Igby Goes Down          2.573105\n",
              "2959     2960  2004.0                     The Ladykillers          2.446850\n",
              "1718     1719  2004.0  The Life Aquatic with Steve Zissou          2.161015\n",
              "\n",
              "[17770 rows x 4 columns]"
            ]
          },
          "metadata": {
            "tags": []
          },
          "execution_count": 30
        }
      ]
    },
    {
      "cell_type": "markdown",
      "metadata": {
        "id": "gPImJFV4SIHD"
      },
      "source": [
        "In above recommendation list shows leathal weapon 3 which is not seen yet and recommended due to user had already seen movie leathel weapon."
      ]
    },
    {
      "cell_type": "markdown",
      "metadata": {
        "id": "LvzUjvrj0u9F"
      },
      "source": [
        "Based on users 5 ratings these are the obvious recommendation on decending order. This recommendation list contains movies they already seen and not seen yet both."
      ]
    }
  ]
}